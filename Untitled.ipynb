{
 "cells": [
  {
   "cell_type": "code",
   "execution_count": 4,
   "id": "0345b1c8",
   "metadata": {},
   "outputs": [],
   "source": [
    "import pygame\n",
    "from pygame import mixer\n",
    "pygame.init()\n",
    "\n",
    "mixer.init()\n",
    "mixer.music.load(\"music.mp3\")\n",
    "mixer.music.set_volume(0.7)\n",
    "\n",
    "mixer.music.play()\n",
    "\n",
    "surface=pygame.display.set_mode((500,400))\n",
    "\n",
    "#RGB Colours\n",
    "WHITE=(255,255,255)\n",
    "BLACK=(0,0,0)\n",
    "RED=(255,0,0)\n",
    "GREEN=(0,255,0)\n",
    "BLUE=(0,0,255)\n",
    "\n",
    "\n",
    "img=pygame.image.load(\"back.PNG\").convert()\n",
    "resized_img=pygame.transform.scale(img,(500,400))\n",
    "x=0\n",
    "y=0\n",
    "\n",
    "surface.blit(resized_img,(x,y))\n",
    "\n",
    "pygame.display.flip() #Without this line the user will not see anything.\n",
    "\n",
    "font=pygame.font.Font('freesansbold.ttf',40)\n",
    "\n",
    "text=font.render(\"Happy Holidays\", True, BLACK)\n",
    "\n",
    "textRect=text.get_rect()\n",
    "X=500\n",
    "Y=400\n",
    "textRect.center=(X//2,Y//2)\n",
    "\n",
    "active=True\n",
    "while active:\n",
    "    surface.blit(text,textRect)\n",
    "    for event in pygame.event.get():\n",
    "        if event.type==pygame.QUIT:\n",
    "            mixer.music.stop()\n",
    "            active=False\n",
    "        pygame.display.update()\n",
    "    \n",
    "pygame.quit()"
   ]
  },
  {
   "cell_type": "code",
   "execution_count": null,
   "id": "c7450f58",
   "metadata": {},
   "outputs": [],
   "source": []
  }
 ],
 "metadata": {
  "kernelspec": {
   "display_name": "Python 3 (ipykernel)",
   "language": "python",
   "name": "python3"
  },
  "language_info": {
   "codemirror_mode": {
    "name": "ipython",
    "version": 3
   },
   "file_extension": ".py",
   "mimetype": "text/x-python",
   "name": "python",
   "nbconvert_exporter": "python",
   "pygments_lexer": "ipython3",
   "version": "3.9.12"
  }
 },
 "nbformat": 4,
 "nbformat_minor": 5
}
